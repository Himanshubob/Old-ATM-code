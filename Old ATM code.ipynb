{
 "cells": [
  {
   "cell_type": "code",
   "execution_count": 15,
   "id": "eedac625",
   "metadata": {},
   "outputs": [],
   "source": [
    "class Atm:\n",
    "    def __init__(self):\n",
    "        self.pin=\"\"\n",
    "        self.balance=0\n",
    "        \n",
    "        self.menu()\n",
    "      \n",
    "        \n",
    "    def menu(self):\n",
    "        user_input=input(\"\"\"\n",
    "        \n",
    "        \n",
    "                Hello,how would you like to  proceed ?\n",
    "                1.Enter 1 to creat pin\n",
    "                2.Enter 2 to deposit\n",
    "                3.Enter 3 to withdraw\n",
    "                4.Enter 4 to cheak balance\n",
    "                5 Enter 5 to exit\n",
    "        \n",
    "        \"\"\")\n",
    "        if user_input==\"1\":\n",
    "            self.create_pin()\n",
    "        elif user_input=='2':\n",
    "            self.deposit()\n",
    "        elif user_input==\"3\":\n",
    "            self.withdraw()\n",
    "        elif user_input==\"4\":\n",
    "            self.cheak_balance()\n",
    "        else:\n",
    "            print(\"bye\")\n",
    "    def create_pin(self):\n",
    "        self.pin=input(\"Enter your pin\")\n",
    "        print(\"pin set successfully\")\n",
    "    def deposit(self):\n",
    "        temp=input(\"Enter your pin\")\n",
    "        if temp==self.pin:\n",
    "            amount=int(input(\"Enter the amount\"))\n",
    "            self.balance=self.balance+amount\n",
    "            print(\"Deposit successfull\")\n",
    "            print(\"your tobal balance\",self.balance)\n",
    "        else:\n",
    "            print(\"Invalid pin\")\n",
    "    def withdraw(self):\n",
    "        temp=input(\"Enter your pin\")\n",
    "        if temp==self.pin:\n",
    "            amount=int(input(\"Enter the amount\"))\n",
    "            if amount<=self.balance:\n",
    "                self.balance=self.balance-amount\n",
    "                print(\"Withdraw successfuly\")\n",
    "                print(\"your total balance\",self.balance)\n",
    "            else:\n",
    "                print(\"Insufficient funds\")\n",
    "        else:\n",
    "            print(\"your pin is InValid\")\n",
    "    def cheak_balance(self):\n",
    "        temp=input(\"Enter your pin\")\n",
    "        if temp==self.pin:\n",
    "            self.balance=self.balance\n",
    "            print(\"your balence :\",self.balance)\n",
    "        else:\n",
    "            print(\"your pin is InValid\")\n",
    "        \n",
    "            \n",
    "    \n",
    "        \n",
    "      "
   ]
  },
  {
   "cell_type": "code",
   "execution_count": 16,
   "id": "cfa8b456",
   "metadata": {},
   "outputs": [
    {
     "name": "stdout",
     "output_type": "stream",
     "text": [
      "\n",
      "        \n",
      "        \n",
      "                Hello,how would you like to  proceed ?\n",
      "                1.Enter 1 to creat pin\n",
      "                2.Enter 2 to deposit\n",
      "                3.Enter 3 to withdraw\n",
      "                4.Enter 4 to cheak balance\n",
      "                5 Enter 5 to exit\n",
      "        \n",
      "        1\n",
      "Enter your pin1234\n",
      "pin set successfully\n"
     ]
    }
   ],
   "source": [
    "sbi=Atm()"
   ]
  },
  {
   "cell_type": "code",
   "execution_count": 17,
   "id": "64c60afd",
   "metadata": {},
   "outputs": [
    {
     "name": "stdout",
     "output_type": "stream",
     "text": [
      "Enter your pin1234\n",
      "Enter the amount22345\n",
      "Deposit successfull\n",
      "your tobal balance 22345\n"
     ]
    }
   ],
   "source": [
    "sbi.deposit()"
   ]
  },
  {
   "cell_type": "code",
   "execution_count": 18,
   "id": "4eff6161",
   "metadata": {},
   "outputs": [
    {
     "name": "stdout",
     "output_type": "stream",
     "text": [
      "Enter your pin1234\n",
      "Enter the amount23445\n",
      "Deposit successfull\n",
      "your tobal balance 45790\n"
     ]
    }
   ],
   "source": [
    "sbi.deposit()"
   ]
  },
  {
   "cell_type": "code",
   "execution_count": 19,
   "id": "052cac76",
   "metadata": {},
   "outputs": [
    {
     "name": "stdout",
     "output_type": "stream",
     "text": [
      "Enter your pin1234\n",
      "Enter the amount234\n",
      "Withdraw successfuly\n",
      "your total balance 45556\n"
     ]
    }
   ],
   "source": [
    "sbi.withdraw()"
   ]
  },
  {
   "cell_type": "code",
   "execution_count": null,
   "id": "77adc4d8",
   "metadata": {},
   "outputs": [],
   "source": []
  }
 ],
 "metadata": {
  "kernelspec": {
   "display_name": "Python 3 (ipykernel)",
   "language": "python",
   "name": "python3"
  },
  "language_info": {
   "codemirror_mode": {
    "name": "ipython",
    "version": 3
   },
   "file_extension": ".py",
   "mimetype": "text/x-python",
   "name": "python",
   "nbconvert_exporter": "python",
   "pygments_lexer": "ipython3",
   "version": "3.10.9"
  }
 },
 "nbformat": 4,
 "nbformat_minor": 5
}
